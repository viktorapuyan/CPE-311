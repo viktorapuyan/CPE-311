{
  "nbformat": 4,
  "nbformat_minor": 0,
  "metadata": {
    "colab": {
      "provenance": []
    },
    "kernelspec": {
      "name": "python3",
      "display_name": "Python 3"
    },
    "language_info": {
      "name": "python"
    }
  },
  "cells": [
    {
      "cell_type": "code",
      "execution_count": 65,
      "metadata": {
        "id": "dl7rV_IiIQU7",
        "colab": {
          "base_uri": "https://localhost:8080/"
        },
        "outputId": "4ff6d909-e140-48f2-fa87-19c3551d8de9"
      },
      "outputs": [
        {
          "output_type": "stream",
          "name": "stdout",
          "text": [
            "Enter number of disks: -1\n",
            "input number of disks greater than 0\n"
          ]
        }
      ],
      "source": [
        "def TOH(n, peg_a, peg_b, peg_c):\n",
        "  if n < 0:\n",
        "    result = print(\"input number of disks greater than 0\") #when user inputs an integer less than 0, it results to printing this string\n",
        "    return result # returns the resulted string\n",
        "  elif n > 0:\n",
        "    TOH(n-1, peg_a, peg_c, peg_b) # Move n-1 disks from source to aux\n",
        "    print(\"Move disk\", n, \"from rod\", peg_a, \"to rod\", peg_b) # Move nth disk (largest disk) from source to dest\n",
        "    TOH(n-1, peg_c, peg_b, peg_a)# Move n-1 disks from aux to dest\n",
        "\n",
        "\n",
        "# Main driver\n",
        "n = int(input(\"Enter number of disks: \")) #user input of n disks\n",
        "TOH(n, 'A', 'C', 'B') # letter A is the Source, letter B is the destination, letter C is the Auxilliary\n"
      ]
    },
    {
      "cell_type": "code",
      "source": [
        "n = int(input(\"Enter number of disks: \"))\n",
        "TOH(n, 'A', 'C', 'B')"
      ],
      "metadata": {
        "colab": {
          "base_uri": "https://localhost:8080/"
        },
        "id": "xzrgpFjdTwP3",
        "outputId": "81b27a94-c58a-4a9e-c921-e8f08b538b94"
      },
      "execution_count": 69,
      "outputs": [
        {
          "output_type": "stream",
          "name": "stdout",
          "text": [
            "Enter number of disks: 2\n",
            "Move disk 1 from rod A to rod B\n",
            "Move disk 2 from rod A to rod C\n",
            "Move disk 1 from rod B to rod C\n"
          ]
        }
      ]
    },
    {
      "cell_type": "markdown",
      "source": [
        "Supplementary Activity\n",
        "\n",
        "1. Explain the programming paradigms/techniques (like recursion or dynamic programming) that you used to solve the given problem.\n",
        "2. Provide screenshots of the techniques and provide a quick analysis.\n"
      ],
      "metadata": {
        "id": "2twdKskjUHqX"
      }
    },
    {
      "cell_type": "markdown",
      "source": [
        "1. For solving the tower of hanoi problem, I used recursion wherein as the user inputs n number of disks greater than 0 let's say 2, what it does is that it moves n-1 disks from source to aux. For example, if I have 2 disks, 1st disk will be moved, one going from source to aux and the larger disk or the nth disk is going from source to destination. After that the disk from the aux will go to the destination rod and it ends the program.\n",
        "2. The recursion in the program is whenever let's say we have 2 disks and when the program reads that the n number of disks is greater than 0 let's say 2, it keeps on subtracting 1 and goes back to calling the function again until it satisfies the condition and then prints the steps of the movement of the disks."
      ],
      "metadata": {
        "id": "61uxa9eoUST3"
      }
    }
  ]
}